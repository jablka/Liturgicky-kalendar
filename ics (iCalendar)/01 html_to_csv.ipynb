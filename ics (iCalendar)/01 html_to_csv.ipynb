{
 "cells": [
  {
   "attachments": {},
   "cell_type": "markdown",
   "metadata": {},
   "source": [
    "# extrakcia dňa z html súborov a uloženie do csv  "
   ]
  },
  {
   "cell_type": "markdown",
   "metadata": {},
   "source": [
    "skript extrahuje názov dňa (h2 tag) z oficiálnych predgenerovaných html súborov (dostupných na https://lc.kbs.sk/).  \n",
    "\n",
    "Na začiatku je potrebné stiahnuť zip archív predgenerovaných súborov a rozbaliť do adresára `'./data_html/'`"
   ]
  },
  {
   "cell_type": "code",
   "execution_count": 6,
   "metadata": {},
   "outputs": [],
   "source": [
    "import os\n",
    "import pandas as pd\n",
    "from bs4 import BeautifulSoup"
   ]
  },
  {
   "cell_type": "code",
   "execution_count": 7,
   "metadata": {},
   "outputs": [],
   "source": [
    "data_dir = './data_html/'"
   ]
  },
  {
   "cell_type": "code",
   "execution_count": 8,
   "metadata": {},
   "outputs": [
    {
     "data": {
      "text/plain": [
       "365"
      ]
     },
     "execution_count": 8,
     "metadata": {},
     "output_type": "execute_result"
    }
   ],
   "source": [
    "# List .html files from data directory with file name length 15 (meaning particular date like: '2023-01-01.html')\n",
    "# poznámka: \n",
    "# keďže cirkevný rok začína adventom, sú v zip archíve aj dni z predošlého roka (2022)\n",
    "# preto som pre názornosť dal podmienku, aby bral len aktuálny rok 2023 (file.startswith('2023'))\n",
    "html_files = [ file for file in os.listdir(data_dir) if file.startswith('2023') and file.endswith(\".html\") and len(file)==15 ]\n",
    "\n",
    "len(html_files) "
   ]
  },
  {
   "cell_type": "code",
   "execution_count": 9,
   "metadata": {},
   "outputs": [
    {
     "name": "stderr",
     "output_type": "stream",
     "text": [
      "c:\\Python\\Lib\\site-packages\\bs4\\builder\\__init__.py:545: XMLParsedAsHTMLWarning: It looks like you're parsing an XML document using an HTML parser. If this really is an HTML document (maybe it's XHTML?), you can ignore or filter this warning. If it's XML, you should know that using an XML parser will be more reliable. To parse this document as XML, make sure you have the lxml package installed, and pass the keyword argument `features=\"xml\"` into the BeautifulSoup constructor.\n",
      "  warnings.warn(\n"
     ]
    }
   ],
   "source": [
    "dictionary = { }\n",
    "\n",
    "for fname in html_files:\n",
    "    with open(data_dir+fname, encoding='utf-8') as f:\n",
    "        s = f.read()    \n",
    "        \n",
    "    soup = BeautifulSoup(s,'lxml') #     \n",
    "    ciel = soup.h2.text\n",
    "    vysledny_string = ciel.replace('\\n',' ').replace('  ',' ').strip()\n",
    "    datum = fname.replace('.html','')\n",
    "    dictionary[datum] = vysledny_string\n"
   ]
  },
  {
   "cell_type": "code",
   "execution_count": null,
   "metadata": {},
   "outputs": [],
   "source": [
    "dictionary"
   ]
  },
  {
   "cell_type": "code",
   "execution_count": 11,
   "metadata": {},
   "outputs": [
    {
     "data": {
      "text/html": [
       "<div>\n",
       "<style scoped>\n",
       "    .dataframe tbody tr th:only-of-type {\n",
       "        vertical-align: middle;\n",
       "    }\n",
       "\n",
       "    .dataframe tbody tr th {\n",
       "        vertical-align: top;\n",
       "    }\n",
       "\n",
       "    .dataframe thead th {\n",
       "        text-align: right;\n",
       "    }\n",
       "</style>\n",
       "<table border=\"1\" class=\"dataframe\">\n",
       "  <thead>\n",
       "    <tr style=\"text-align: right;\">\n",
       "      <th></th>\n",
       "      <th>nazov</th>\n",
       "    </tr>\n",
       "  </thead>\n",
       "  <tbody>\n",
       "    <tr>\n",
       "      <th>2023-01-01</th>\n",
       "      <td>PRIKÁZANÁ SLÁVNOSŤ: Panny Márie Bohorodičky [B...</td>\n",
       "    </tr>\n",
       "    <tr>\n",
       "      <th>2023-01-02</th>\n",
       "      <td>Svätých Bazila Veľkého a Gregora Nazianzského,...</td>\n",
       "    </tr>\n",
       "    <tr>\n",
       "      <th>2023-01-03</th>\n",
       "      <td>Utorok vo Vianočnom období [Biela] alebo Najsv...</td>\n",
       "    </tr>\n",
       "    <tr>\n",
       "      <th>2023-01-04</th>\n",
       "      <td>Streda vo Vianočnom období [Biela]</td>\n",
       "    </tr>\n",
       "    <tr>\n",
       "      <th>2023-01-05</th>\n",
       "      <td>Štvrtok vo Vianočnom období [Biela]</td>\n",
       "    </tr>\n",
       "    <tr>\n",
       "      <th>...</th>\n",
       "      <td>...</td>\n",
       "    </tr>\n",
       "    <tr>\n",
       "      <th>2023-12-27</th>\n",
       "      <td>Svätého Jána, apoštola a evanjelistu [Biela] (...</td>\n",
       "    </tr>\n",
       "    <tr>\n",
       "      <th>2023-12-28</th>\n",
       "      <td>Svätých Neviniatok, mučeníkov [Červená] (sviatok)</td>\n",
       "    </tr>\n",
       "    <tr>\n",
       "      <th>2023-12-29</th>\n",
       "      <td>Piaty deň v oktáve narodenia Pána [Biela]</td>\n",
       "    </tr>\n",
       "    <tr>\n",
       "      <th>2023-12-30</th>\n",
       "      <td>Šiesty deň v oktáve narodenia Pána [Biela]</td>\n",
       "    </tr>\n",
       "    <tr>\n",
       "      <th>2023-12-31</th>\n",
       "      <td>Svätej rodiny – Ježiša, Márie a Jozefa [Biela]...</td>\n",
       "    </tr>\n",
       "  </tbody>\n",
       "</table>\n",
       "<p>365 rows × 1 columns</p>\n",
       "</div>"
      ],
      "text/plain": [
       "                                                        nazov\n",
       "2023-01-01  PRIKÁZANÁ SLÁVNOSŤ: Panny Márie Bohorodičky [B...\n",
       "2023-01-02  Svätých Bazila Veľkého a Gregora Nazianzského,...\n",
       "2023-01-03  Utorok vo Vianočnom období [Biela] alebo Najsv...\n",
       "2023-01-04                 Streda vo Vianočnom období [Biela]\n",
       "2023-01-05                Štvrtok vo Vianočnom období [Biela]\n",
       "...                                                       ...\n",
       "2023-12-27  Svätého Jána, apoštola a evanjelistu [Biela] (...\n",
       "2023-12-28  Svätých Neviniatok, mučeníkov [Červená] (sviatok)\n",
       "2023-12-29          Piaty deň v oktáve narodenia Pána [Biela]\n",
       "2023-12-30         Šiesty deň v oktáve narodenia Pána [Biela]\n",
       "2023-12-31  Svätej rodiny – Ježiša, Márie a Jozefa [Biela]...\n",
       "\n",
       "[365 rows x 1 columns]"
      ]
     },
     "execution_count": 11,
     "metadata": {},
     "output_type": "execute_result"
    }
   ],
   "source": [
    "df = pd.DataFrame.from_dict(dictionary, orient='index', columns=['nazov'])\n",
    "df"
   ]
  },
  {
   "cell_type": "code",
   "execution_count": 12,
   "metadata": {},
   "outputs": [],
   "source": [
    "df.to_csv('output.csv')"
   ]
  },
  {
   "cell_type": "code",
   "execution_count": null,
   "metadata": {},
   "outputs": [],
   "source": []
  }
 ],
 "metadata": {
  "kernelspec": {
   "display_name": "Python 3",
   "language": "python",
   "name": "python3"
  },
  "language_info": {
   "codemirror_mode": {
    "name": "ipython",
    "version": 3
   },
   "file_extension": ".py",
   "mimetype": "text/x-python",
   "name": "python",
   "nbconvert_exporter": "python",
   "pygments_lexer": "ipython3",
   "version": "3.11.1"
  },
  "orig_nbformat": 4
 },
 "nbformat": 4,
 "nbformat_minor": 2
}
