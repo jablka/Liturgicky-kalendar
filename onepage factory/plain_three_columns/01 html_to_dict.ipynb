{
 "cells": [
  {
   "cell_type": "code",
   "execution_count": 1,
   "metadata": {},
   "outputs": [],
   "source": [
    "import os\n",
    "import re\n",
    "from bs4 import BeautifulSoup\n",
    "from collections import defaultdict\n",
    "import pickle"
   ]
  },
  {
   "cell_type": "code",
   "execution_count": 2,
   "metadata": {},
   "outputs": [],
   "source": [
    "data_dir = './data_html/'"
   ]
  },
  {
   "cell_type": "code",
   "execution_count": 3,
   "metadata": {},
   "outputs": [
    {
     "data": {
      "text/plain": [
       "365"
      ]
     },
     "execution_count": 3,
     "metadata": {},
     "output_type": "execute_result"
    }
   ],
   "source": [
    "# List all html files from data directory \n",
    "# with file name length 15 (meaning particular date like: '2023-01-01.html')\n",
    "\n",
    "# poznámka: \n",
    "# keďže cirkevný rok začína adventom, sú v zip archíve aj dni z predošlého roka (2022)\n",
    "# preto som pre názornosť dal podmienku, aby bral len aktuálny rok 2023 (file.startswith('2023'))\n",
    "html_files = [ file for file in os.listdir(data_dir) \n",
    "                    if file.startswith('2023') and file.endswith(\".html\") and len(file)==15 ]\n",
    "\n",
    "len(html_files) "
   ]
  },
  {
   "cell_type": "code",
   "execution_count": 4,
   "metadata": {},
   "outputs": [
    {
     "name": "stderr",
     "output_type": "stream",
     "text": [
      "c:\\Python\\Lib\\site-packages\\bs4\\builder\\__init__.py:545: XMLParsedAsHTMLWarning: It looks like you're parsing an XML document using an HTML parser. If this really is an HTML document (maybe it's XHTML?), you can ignore or filter this warning. If it's XML, you should know that using an XML parser will be more reliable. To parse this document as XML, make sure you have the lxml package installed, and pass the keyword argument `features=\"xml\"` into the BeautifulSoup constructor.\n",
      "  warnings.warn(\n"
     ]
    }
   ],
   "source": [
    "mydict = defaultdict(dict)\n",
    "\n",
    "for fname in html_files:\n",
    "\n",
    "    datum = fname.removesuffix('.html')\n",
    "\n",
    "    with open(data_dir+fname, encoding='utf-8') as f:\n",
    "        s = f.read()    \n",
    "        \n",
    "    soup = BeautifulSoup(s,'lxml') #     \n",
    "\n",
    "    # meniny:\n",
    "    meniny = soup.find('span',class_='lcND').get_text()\n",
    "    meniny = meniny.removeprefix('meniny: ')\n",
    "    mydict[datum].update({'meniny':meniny})\n",
    "\n",
    "    elems = soup.find_all('div', class_='lcDENalt') # tu riešim vigíliu.\n",
    "    for elem in elems:\n",
    "        h3 = elem.find('h3')                       \n",
    "        if h3:\n",
    "            if h3.get_text().startswith('Vigília'): # ak je to vigília, mažeme.\n",
    "                elem.extract()  \n",
    "\n",
    "    # kruciálny odsek:\n",
    "    elems = soup.find_all('h2')\n",
    "    for i, elem in enumerate(elems):\n",
    "        ciel = []\n",
    "        ciel.append(elem.get_text('\\n',True))\n",
    "        toc_title = elem['title']\n",
    "        vysledny_string = '\\n'.join(ciel)\n",
    "        vysledny_string = re.sub(r'\\n(\\[\\w+\\])', r' \\1', vysledny_string) # replacing '\\n[Biela]' with ' [Biela]...\n",
    "        # vysledny_string = re.sub(r'\\n(\\(.+\\))', r' \\1', vysledny_string) # replacing \"\\n(ľubovoľná spomienka)\" with \" (ľubovoľná spomienka)\"\n",
    "        mydict[datum].update({i:[vysledny_string,toc_title]})"
   ]
  },
  {
   "cell_type": "code",
   "execution_count": 5,
   "metadata": {},
   "outputs": [
    {
     "name": "stdout",
     "output_type": "stream",
     "text": [
      "{'meniny': 'Daniela', 0: ['Utorok vo Vianočnom období [Biela]\\nalebo\\nNajsvätejšieho mena Ježiš [Biela]\\n(ľubovoľná spomienka)', 'Vianočné obdobie; lit. rok: 2023; ned./fer. cyklus: A/I']}\n"
     ]
    }
   ],
   "source": [
    "print(mydict['2023-01-03']) # test zobrazenia"
   ]
  },
  {
   "cell_type": "code",
   "execution_count": 6,
   "metadata": {},
   "outputs": [
    {
     "name": "stdout",
     "output_type": "stream",
     "text": [
      "{'meniny': 'Bohuslav', 0: ['Svätých Andreja-Svorada a Benedikta, pustovníkov [Biela]\\n(spomienka)', 'Cezročné obdobie; lit. rok: 2023; ned./fer. cyklus: A/I'], 1: ['NITRA: Svätých Andreja-Svorada a Benedikta, pustovníkov – hlavných patrónov diecézy [Biela]\\n(sviatok)', 'Cezročné obdobie; lit. rok: 2023; ned./fer. cyklus: A/I'], 2: ['Mesto Nitra: Svätého Andreja-Svorada – patróna mesta [Biela]\\n(slávnosť)', 'Cezročné obdobie; lit. rok: 2023; ned./fer. cyklus: A/I']}\n"
     ]
    }
   ],
   "source": [
    "print(mydict['2023-07-17']) # test zobrazenia"
   ]
  },
  {
   "cell_type": "code",
   "execution_count": 7,
   "metadata": {},
   "outputs": [],
   "source": [
    "# serializovať do pickle.\n",
    "# Serialize and save the dictionary to a pickle file\n",
    "with open('mydict_dict.pickle', 'wb') as file:\n",
    "    pickle.dump(mydict, file)"
   ]
  },
  {
   "cell_type": "code",
   "execution_count": 8,
   "metadata": {},
   "outputs": [],
   "source": [
    "# Load the dictionary from the pickle file\n",
    "with open('mydict_dict.pickle', 'rb') as file:\n",
    "    loaded_dict = pickle.load(file)"
   ]
  },
  {
   "cell_type": "code",
   "execution_count": 9,
   "metadata": {},
   "outputs": [
    {
     "data": {
      "text/plain": [
       "True"
      ]
     },
     "execution_count": 9,
     "metadata": {},
     "output_type": "execute_result"
    }
   ],
   "source": [
    "mydict == loaded_dict"
   ]
  },
  {
   "cell_type": "code",
   "execution_count": 11,
   "metadata": {},
   "outputs": [],
   "source": [
    "# done"
   ]
  }
 ],
 "metadata": {
  "kernelspec": {
   "display_name": "Python 3",
   "language": "python",
   "name": "python3"
  },
  "language_info": {
   "codemirror_mode": {
    "name": "ipython",
    "version": 3
   },
   "file_extension": ".py",
   "mimetype": "text/x-python",
   "name": "python",
   "nbconvert_exporter": "python",
   "pygments_lexer": "ipython3",
   "version": "3.11.1"
  },
  "orig_nbformat": 4
 },
 "nbformat": 4,
 "nbformat_minor": 2
}
