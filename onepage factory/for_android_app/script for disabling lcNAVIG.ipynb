{
 "cells": [
  {
   "cell_type": "code",
   "execution_count": null,
   "metadata": {},
   "outputs": [],
   "source": [
    "# tento skript stojí samostatne (nesúvisí s tvorbou onepage) \n",
    "# upravuje jednotlivé dni/mesiace:\n",
    "# a to odstránením navigačných tlačidiel.\n",
    "# (Lebo v aplikácii kalendára nie sú potrebné, preferovaná navigácia je cez hlavnú onepage (index.html))"
   ]
  },
  {
   "cell_type": "code",
   "execution_count": 1,
   "metadata": {},
   "outputs": [],
   "source": [
    "import os\n",
    "import re"
   ]
  },
  {
   "cell_type": "code",
   "execution_count": 2,
   "metadata": {},
   "outputs": [
    {
     "data": {
      "text/plain": [
       "419"
      ]
     },
     "execution_count": 2,
     "metadata": {},
     "output_type": "execute_result"
    }
   ],
   "source": [
    "# kde sú html súbory:\n",
    "data_dir = './data_html/'\n",
    "\n",
    "html_files = [ file for file in os.listdir(data_dir) ]\n",
    "\n",
    "len(html_files) "
   ]
  },
  {
   "cell_type": "code",
   "execution_count": 3,
   "metadata": {},
   "outputs": [],
   "source": [
    "pattern_lcNAVIG = r\"<div class='lcNAVIG'>\\n.+\\n.+\\n</div>\"\n",
    "\n",
    "pattern_lcPREV = r\"<a class='lcPREV'.+<\\/a>\"\n",
    "pattern_lcNEXT = r\"<a class='lcNEXT'.+<\\/a>\""
   ]
  },
  {
   "cell_type": "code",
   "execution_count": 4,
   "metadata": {},
   "outputs": [],
   "source": [
    "for fname in html_files:\n",
    "\n",
    "   with open(data_dir+fname, mode='r+', encoding='utf-8', newline='') as f_in:\n",
    "      # newline='' https://docs.python.org/3/library/functions.html#open\n",
    "\n",
    "      s = f_in.read()        \n",
    "\n",
    "      s = re.sub(pattern_lcNAVIG, \"\", s) # dni majú lcNAVIG\n",
    "\n",
    "      s = re.sub(pattern_lcPREV, \"\", s) # mesiace nemajú lcNAVIG     \n",
    "      s = re.sub(pattern_lcNEXT, \"\", s)\n",
    "\n",
    "      f_in.seek(0) # \n",
    "      f_in.truncate() # \n",
    "\n",
    "      f_in.write(s) # rewriting the file"
   ]
  },
  {
   "cell_type": "code",
   "execution_count": 5,
   "metadata": {},
   "outputs": [],
   "source": [
    "# done"
   ]
  },
  {
   "cell_type": "code",
   "execution_count": 6,
   "metadata": {},
   "outputs": [
    {
     "data": {
      "text/plain": [
       "'\\r\\n'"
      ]
     },
     "execution_count": 6,
     "metadata": {},
     "output_type": "execute_result"
    }
   ],
   "source": [
    "os.linesep"
   ]
  },
  {
   "cell_type": "code",
   "execution_count": null,
   "metadata": {},
   "outputs": [],
   "source": []
  }
 ],
 "metadata": {
  "kernelspec": {
   "display_name": "Python 3",
   "language": "python",
   "name": "python3"
  },
  "language_info": {
   "codemirror_mode": {
    "name": "ipython",
    "version": 3
   },
   "file_extension": ".py",
   "mimetype": "text/x-python",
   "name": "python",
   "nbconvert_exporter": "python",
   "pygments_lexer": "ipython3",
   "version": "3.11.1"
  },
  "orig_nbformat": 4
 },
 "nbformat": 4,
 "nbformat_minor": 2
}
