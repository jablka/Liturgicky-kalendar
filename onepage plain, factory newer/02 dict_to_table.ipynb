{
 "cells": [
  {
   "cell_type": "code",
   "execution_count": 13,
   "metadata": {},
   "outputs": [],
   "source": [
    "import pickle\n",
    "import pandas as pd\n",
    "from bs4 import BeautifulSoup"
   ]
  },
  {
   "cell_type": "code",
   "execution_count": 14,
   "metadata": {},
   "outputs": [],
   "source": [
    "# Load the dictionary from the pickle file\n",
    "with open('mydict_dict.pickle', 'rb') as file:\n",
    "    mydict = pickle.load(file)"
   ]
  },
  {
   "cell_type": "code",
   "execution_count": 15,
   "metadata": {},
   "outputs": [],
   "source": [
    "with open('mustra_p.html', mode='r', encoding='utf-8') as m:\n",
    "    mustra = m.read()\n",
    "    \n",
    "soup = BeautifulSoup(mustra , 'lxml')"
   ]
  },
  {
   "cell_type": "code",
   "execution_count": 16,
   "metadata": {},
   "outputs": [],
   "source": [
    "for key in mydict.keys():\n",
    "\n",
    "    # týždne sú oddelené hrubšími čiarami, jednotlivé týždne sú zabalené v <tbody> elementoch\n",
    "    current_date = pd.to_datetime(key)\n",
    "    if (key == '2023-01-01') or current_date.day_name('sk_SK')=='Pondelok':\n",
    "        tbody_here = soup.new_tag('tbody') # create new tbody here\n",
    "        soup.table.append(tbody_here)\n",
    "\n",
    "    tr = soup.new_tag('tr')\n",
    "    # tr['id'] = key # id='2023-01-01'\n",
    "\n",
    "    velkost = len(mydict[key]) # length of nested dictionary\n",
    "\n",
    "    for variable in mydict[key].keys(): # prechádzame nested dictionary\n",
    "        if variable == 'meniny': # pole \"meniny\"\n",
    "            td = soup.new_tag('td')\n",
    "            td['id'] = key # id='2023-01-01'\n",
    "            td['class']='meniny' # na túto class je napojené CSS, aby sa nezalamoval m_string.\n",
    "\n",
    "            # meniny string obohatený o ďalšie údaje o dni, this will be crucial\n",
    "            meniny = mydict[key][variable]\n",
    "            m_string = (\n",
    "                str(current_date.day)+'. '+current_date.month_name('sk_SK').lower()+'\\n'+current_date.day_name('sk_SK')+'\\n<small><i>'+meniny+'</i></small>'\n",
    "            )\n",
    "            app = BeautifulSoup(m_string,'html.parser')\n",
    "            td.append(app)\n",
    "\n",
    "            if velkost>2:\n",
    "                td['rowspan']=str(velkost-1)      \n",
    "\n",
    "            tr.append(td)\n",
    "\n",
    "        else: # zvyšné polia (0,1,2)\n",
    "            td = soup.new_tag('td')\n",
    "            td['class']='middle'\n",
    "            td.string = mydict[key][variable][0] # v liturgii... nultý (prvý) údaj v liste\n",
    "            tr.append(td)\n",
    "\n",
    "            td = soup.new_tag('td')\n",
    "            td.string = mydict[key][variable][1] # poznámka... prvý (druhý) údaj v liste\n",
    "            tr.append(td)\n",
    "\n",
    "            if velkost>2: # ak je v dni je viac možností, musíme pridať ďalší riadok (row)\n",
    "                tbody_here.append(tr)\n",
    "                tr = soup.new_tag('tr')\n",
    "\n",
    "    tbody_here.append(tr)"
   ]
  },
  {
   "cell_type": "code",
   "execution_count": 17,
   "metadata": {},
   "outputs": [],
   "source": [
    "# soup"
   ]
  },
  {
   "cell_type": "code",
   "execution_count": 18,
   "metadata": {},
   "outputs": [],
   "source": [
    "with open('onepage_plain.html', mode='w', encoding='utf8') as f:\n",
    "    f.write(str(soup))"
   ]
  },
  {
   "cell_type": "code",
   "execution_count": 8,
   "metadata": {},
   "outputs": [],
   "source": [
    "# done."
   ]
  }
 ],
 "metadata": {
  "kernelspec": {
   "display_name": "Python 3",
   "language": "python",
   "name": "python3"
  },
  "language_info": {
   "codemirror_mode": {
    "name": "ipython",
    "version": 3
   },
   "file_extension": ".py",
   "mimetype": "text/x-python",
   "name": "python",
   "nbconvert_exporter": "python",
   "pygments_lexer": "ipython3",
   "version": "3.11.1"
  },
  "orig_nbformat": 4
 },
 "nbformat": 4,
 "nbformat_minor": 2
}
