{
 "cells": [
  {
   "cell_type": "code",
   "execution_count": 1,
   "metadata": {},
   "outputs": [],
   "source": [
    "import pickle\n",
    "import pandas as pd\n",
    "from bs4 import BeautifulSoup"
   ]
  },
  {
   "cell_type": "code",
   "execution_count": 2,
   "metadata": {},
   "outputs": [],
   "source": [
    "# Load the dictionary from the pickle file\n",
    "with open('mydict_dict.pickle', 'rb') as file:\n",
    "    mydict = pickle.load(file)"
   ]
  },
  {
   "cell_type": "code",
   "execution_count": 3,
   "metadata": {},
   "outputs": [],
   "source": [
    "mustra = '''\n",
    "<!DOCTYPE html>\n",
    "<html lang=\"sk\">\n",
    "<head>\n",
    "<meta charset=\"UTF-8\">\n",
    "<title>Liturgický kalendár 2023, skúšobná verzia</title>\n",
    "<style>\n",
    "    table {\n",
    "        width: 75%; \n",
    "        margin-left: auto; \n",
    "        margin-right: auto;\n",
    "        font-family: Arial, Helvetica, sans-serif; \n",
    "        line-height: 1.5;\n",
    "        border: 1px solid gray; \n",
    "        border-collapse: collapse; \n",
    "        padding: 1rem;    \n",
    "        margin-bottom: 100px;              \n",
    "    }\n",
    "\n",
    "    td {\n",
    "        white-space: pre-wrap;\n",
    "        border: 1px solid gray;\n",
    "        border-collapse: collapse;\n",
    "        padding: 1rem;        \n",
    "    }\n",
    "\n",
    "    th {\n",
    "        font-size: 1.1rem;    \n",
    "        border: 1px solid gray;\n",
    "        border-collapse: collapse;\n",
    "        padding: 1rem;          \n",
    "    }\n",
    "    \n",
    "    .meniny {\n",
    "        text-wrap: nowrap;\n",
    "        text-align: center\n",
    "    }\n",
    "\n",
    "    tbody {\n",
    "        border-style: ridge;\n",
    "        border-width: 5px;\n",
    "        border-color: coral\n",
    "    }\n",
    "\n",
    "    tr td:last-child {\n",
    "        /* text-align: center; */\n",
    "        font-size: 0.75rem;\n",
    "    }      \n",
    "</style>\n",
    "</head>\n",
    "<body>\n",
    "<table>\n",
    "<thead>\n",
    "<th>deň</th>\n",
    "<th>v liturgii</th>\n",
    "<th>poznámka</th>\n",
    "</thead>\n",
    "</table>\n",
    "</body>\n",
    "</html>\n",
    "'''"
   ]
  },
  {
   "cell_type": "code",
   "execution_count": 4,
   "metadata": {},
   "outputs": [],
   "source": [
    "soup = BeautifulSoup(mustra , 'lxml')"
   ]
  },
  {
   "cell_type": "code",
   "execution_count": 5,
   "metadata": {},
   "outputs": [],
   "source": [
    "for key in mydict.keys():\n",
    "\n",
    "    # týždne sú oddelené hrubšími čiarami, jednotlivé týždne sú zabalené v <tbody> elementoch\n",
    "    current_date = pd.to_datetime(key)\n",
    "    if (key == '2023-01-01') or current_date.day_name('sk_SK')=='Pondelok':\n",
    "        tbody_here = soup.new_tag('tbody') # create new tbody here\n",
    "        soup.table.append(tbody_here)\n",
    "\n",
    "    tr = soup.new_tag('tr')\n",
    "    # tr['id'] = key # id='2023-01-01'\n",
    "\n",
    "    velkost = len(mydict[key]) # length of nested dictionary\n",
    "\n",
    "    for variable in mydict[key].keys(): # prechádzame nested dictionary\n",
    "        if variable == 'meniny': # pole \"meniny\"\n",
    "            td2 = soup.new_tag('td')\n",
    "            td2['id'] = key # id='2023-01-01'\n",
    "            td2['class']='meniny' # na túto class je napojené CSS, aby sa nezalamoval m_string.\n",
    "\n",
    "            # meniny string obohatený o ďalšie údaje o dni, this will be crucial\n",
    "            meniny = mydict[key][variable]\n",
    "            m_string = str(current_date.day)+'. '+current_date.month_name('sk_SK').lower()+'\\n'+current_date.day_name('sk_SK')+'\\n<i>'+meniny+'</i>'\n",
    "            app = BeautifulSoup(m_string,'html.parser')\n",
    "            td2.append(app)\n",
    "\n",
    "            if velkost>2:\n",
    "                td2['rowspan']=str(velkost-1)      \n",
    "\n",
    "            tr.append(td2)\n",
    "\n",
    "        else: # zvyšné polia (0,1,2)\n",
    "            td2 = soup.new_tag('td')\n",
    "            td2.string = mydict[key][variable][0] # v liturgii... nultý (prvý) údaj v liste\n",
    "            tr.append(td2)\n",
    "\n",
    "            td2 = soup.new_tag('td')\n",
    "            td2.string = mydict[key][variable][1] # poznámka... prvý (druhý) údaj v liste\n",
    "            tr.append(td2)\n",
    "\n",
    "            if velkost>2: # ak je v dni je viac možností, musíme pridať ďalší riadok (row)\n",
    "                tbody_here.append(tr)\n",
    "                tr = soup.new_tag('tr')\n",
    "\n",
    "    tbody_here.append(tr)"
   ]
  },
  {
   "cell_type": "code",
   "execution_count": 6,
   "metadata": {},
   "outputs": [],
   "source": [
    "# soup"
   ]
  },
  {
   "cell_type": "code",
   "execution_count": 7,
   "metadata": {},
   "outputs": [],
   "source": [
    "with open('onepage_plain.html', mode='w', encoding='utf8') as f:\n",
    "    f.write(str(soup))"
   ]
  },
  {
   "cell_type": "code",
   "execution_count": 8,
   "metadata": {},
   "outputs": [],
   "source": [
    "# done."
   ]
  }
 ],
 "metadata": {
  "kernelspec": {
   "display_name": "Python 3",
   "language": "python",
   "name": "python3"
  },
  "language_info": {
   "codemirror_mode": {
    "name": "ipython",
    "version": 3
   },
   "file_extension": ".py",
   "mimetype": "text/x-python",
   "name": "python",
   "nbconvert_exporter": "python",
   "pygments_lexer": "ipython3",
   "version": "3.11.1"
  },
  "orig_nbformat": 4
 },
 "nbformat": 4,
 "nbformat_minor": 2
}
