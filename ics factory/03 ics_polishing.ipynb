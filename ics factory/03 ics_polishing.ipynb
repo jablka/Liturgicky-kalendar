{
 "cells": [
  {
   "cell_type": "code",
   "execution_count": 7,
   "metadata": {},
   "outputs": [],
   "source": [
    "# poznámka:\n",
    "# tento tretí krok je nepovinný a je len kozmetickou úpravou.\n",
    "# ics súbor totiž obsahuje pri každom dni pole UID, ktoré vyzerá ako náhodne generovaná emailová adresa. \n",
    "# To pôsobí mätúco, a tak sú tieto polia odstránené.\n",
    "# Výsledný súbor je funkčný aj bez toho."
   ]
  },
  {
   "attachments": {},
   "cell_type": "markdown",
   "metadata": {},
   "source": [
    "# odstránené zbytočné UID riadky v ICS súbore.\n",
    "# takisto PRODID prepísané."
   ]
  },
  {
   "cell_type": "code",
   "execution_count": 8,
   "metadata": {},
   "outputs": [],
   "source": [
    "input_file = \"output.ics\"\n",
    "output_file = \"output_final.ics\""
   ]
  },
  {
   "cell_type": "code",
   "execution_count": 9,
   "metadata": {},
   "outputs": [],
   "source": [
    "with open(input_file, mode=\"r\", encoding='utf-8') as f1, \\\n",
    "        open(output_file, mode=\"w\", encoding='utf-8') as f2:\n",
    "    for line in f1:        \n",
    "        if line.startswith('UID:'):\n",
    "            pass\n",
    "        else:\n",
    "            if line.startswith('PRODID:'):\n",
    "                f2.write('PRODID:moje\\n')\n",
    "            else:\n",
    "                f2.write(line)    "
   ]
  },
  {
   "cell_type": "code",
   "execution_count": null,
   "metadata": {},
   "outputs": [],
   "source": []
  }
 ],
 "metadata": {
  "kernelspec": {
   "display_name": "Python 3",
   "language": "python",
   "name": "python3"
  },
  "language_info": {
   "codemirror_mode": {
    "name": "ipython",
    "version": 3
   },
   "file_extension": ".py",
   "mimetype": "text/x-python",
   "name": "python",
   "nbconvert_exporter": "python",
   "pygments_lexer": "ipython3",
   "version": "3.11.1"
  },
  "orig_nbformat": 4
 },
 "nbformat": 4,
 "nbformat_minor": 2
}
