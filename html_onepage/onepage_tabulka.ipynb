{
 "cells": [
  {
   "cell_type": "code",
   "execution_count": null,
   "metadata": {},
   "outputs": [],
   "source": [
    "# Liturgický kalendár:\n",
    "# v tabuľkovom zobrazení (12 mesiacov) ako \"one page\"."
   ]
  },
  {
   "cell_type": "code",
   "execution_count": 11,
   "metadata": {},
   "outputs": [],
   "source": [
    "import os\n",
    "from bs4 import BeautifulSoup"
   ]
  },
  {
   "cell_type": "code",
   "execution_count": 12,
   "metadata": {},
   "outputs": [],
   "source": [
    "# kde sú html súbory:\n",
    "data_dir = './data_html/'"
   ]
  },
  {
   "cell_type": "code",
   "execution_count": 13,
   "metadata": {},
   "outputs": [
    {
     "data": {
      "text/plain": [
       "12"
      ]
     },
     "execution_count": 13,
     "metadata": {},
     "output_type": "execute_result"
    }
   ],
   "source": [
    "# List all html files from data directory with file name length 12 (meaning particular date like: '2023-12.html')\n",
    "# poznámka: \n",
    "# keďže cirkevný rok začína adventom, sú v zip archíve aj dni z predošlého roka (2022)\n",
    "# preto som pre názornosť dal podmienku, aby bral len aktuálny rok 2023 (file.startswith('2023'))\n",
    "html_files = [ file for file in os.listdir(data_dir) if file.startswith('2023') and file.endswith(\".html\") and len(file)==12 ]\n",
    "\n",
    "len(html_files) "
   ]
  },
  {
   "cell_type": "code",
   "execution_count": 14,
   "metadata": {},
   "outputs": [],
   "source": [
    "for i,fname in enumerate(html_files):\n",
    "\n",
    "    with open(data_dir+fname, encoding='utf-8') as f_in:\n",
    "        s = f_in.read()            \n",
    "    \n",
    "    if i==0: # prvý súbor, vytiahneme HTML kostru\n",
    "        soup1 = BeautifulSoup(s,'lxml') # \n",
    "        soup1.title.string = 'kalendár 2023, tabuľka' # meníme title\n",
    "\n",
    "        tag = soup1.find('a', class_='lcPREV')\n",
    "        if tag:\n",
    "            tag.extract()\n",
    "\n",
    "        tag = soup1.find('a', class_='lcNEXT')\n",
    "        if tag:\n",
    "            tag.extract()\n",
    "\n",
    "        odkazy = soup1.find_all('a', class_='lcDEN')\n",
    "        for odk in odkazy:\n",
    "            odk['href'] = 'onepage.html#'+odk['href'][:-5]\n",
    "\n",
    "    else: \n",
    "        # parsujeme: \n",
    "        hr_tag = soup1.new_tag('hr')\n",
    "        hr_tag['id'] = fname[:-5] # id='2023-01' napríklad\n",
    "        soup1.html.append(hr_tag) # pridávame hr\n",
    "\n",
    "        soup2 = BeautifulSoup(s,'lxml') #    \n",
    "\n",
    "        soup3 = soup2.body\n",
    "        soup3.script.extract() # init(); preč\n",
    "\n",
    "        tag = soup3.find('a', class_='lcPREV')\n",
    "        if tag:\n",
    "            tag.extract()\n",
    "\n",
    "        tag = soup3.find('a', class_='lcNEXT')\n",
    "        if tag:\n",
    "            tag.extract()\n",
    "\n",
    "        odkazy = soup3.find_all('a', class_='lcDEN')\n",
    "        for odk in odkazy:\n",
    "            odk['href'] = 'onepage.html#'+odk['href'][:-5]\n",
    "        # soup3.h1.a.replace_with(soup2.h1.a.text) # úplne odstraňujeme link z nadpisu. pre zmenu linku by sa použilo: soup2.h1.a['href']= ''\n",
    "\n",
    "        soup1.html.append(soup3)"
   ]
  },
  {
   "cell_type": "code",
   "execution_count": 15,
   "metadata": {},
   "outputs": [],
   "source": [
    "with open('onepage_tabulka2.html', mode='w', encoding='utf-8') as f_out:\n",
    "    f_out.write(str(soup1))"
   ]
  },
  {
   "cell_type": "code",
   "execution_count": null,
   "metadata": {},
   "outputs": [],
   "source": [
    "# done."
   ]
  }
 ],
 "metadata": {
  "kernelspec": {
   "display_name": "Python 3",
   "language": "python",
   "name": "python3"
  },
  "language_info": {
   "codemirror_mode": {
    "name": "ipython",
    "version": 3
   },
   "file_extension": ".py",
   "mimetype": "text/x-python",
   "name": "python",
   "nbconvert_exporter": "python",
   "pygments_lexer": "ipython3",
   "version": "3.11.1"
  },
  "orig_nbformat": 4
 },
 "nbformat": 4,
 "nbformat_minor": 2
}
