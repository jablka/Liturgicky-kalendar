{
 "cells": [
  {
   "cell_type": "code",
   "execution_count": 1,
   "metadata": {},
   "outputs": [],
   "source": [
    "# Liturgický kalendár:\n",
    "# 365 dní a súradnice ako \"one page\" zobrazenie."
   ]
  },
  {
   "cell_type": "code",
   "execution_count": 2,
   "metadata": {},
   "outputs": [],
   "source": [
    "import os\n",
    "from bs4 import BeautifulSoup"
   ]
  },
  {
   "cell_type": "code",
   "execution_count": 3,
   "metadata": {},
   "outputs": [],
   "source": [
    "# kde sú html súbory:\n",
    "data_dir = './data_html/'"
   ]
  },
  {
   "cell_type": "code",
   "execution_count": 4,
   "metadata": {},
   "outputs": [
    {
     "data": {
      "text/plain": [
       "365"
      ]
     },
     "execution_count": 4,
     "metadata": {},
     "output_type": "execute_result"
    }
   ],
   "source": [
    "# List all html files from data directory with file name length 15 (meaning particular date like: '2023-01-01.html')\n",
    "# poznámka: \n",
    "# keďže cirkevný rok začína adventom, sú v zip archíve aj dni z predošlého roka (2022)\n",
    "# preto som pre názornosť dal podmienku, aby bral len aktuálny rok 2023 (file.startswith('2023'))\n",
    "html_files = [ file for file in os.listdir(data_dir) if file.startswith('2023') and file.endswith(\".html\") and len(file)==15 ]\n",
    "\n",
    "len(html_files) "
   ]
  },
  {
   "cell_type": "code",
   "execution_count": 5,
   "metadata": {},
   "outputs": [
    {
     "name": "stderr",
     "output_type": "stream",
     "text": [
      "c:\\Python\\Lib\\site-packages\\bs4\\builder\\__init__.py:545: XMLParsedAsHTMLWarning: It looks like you're parsing an XML document using an HTML parser. If this really is an HTML document (maybe it's XHTML?), you can ignore or filter this warning. If it's XML, you should know that using an XML parser will be more reliable. To parse this document as XML, make sure you have the lxml package installed, and pass the keyword argument `features=\"xml\"` into the BeautifulSoup constructor.\n",
      "  warnings.warn(\n"
     ]
    }
   ],
   "source": [
    "for i,fname in enumerate(html_files):\n",
    "\n",
    "    with open(data_dir+fname, encoding='utf-8') as f_in:\n",
    "        s = f_in.read()            \n",
    "    \n",
    "    if i==0: # prvý súbor, vytiahneme HTML kostru\n",
    "        soup1 = BeautifulSoup(s,'lxml') # \n",
    "        soup1.title.string = 'kalendár 2023' # meníme title\n",
    "\n",
    "        elems = soup1.find_all('div', class_='lcBODY') # čítania mažeme\n",
    "        for elem in elems: #  v príslušný deň ich môže byť viac\n",
    "            elem.extract()\n",
    "\n",
    "        soup1.find('div', class_='lcNAVIG').extract() # navigačné tlačidlá mažeme\n",
    "\n",
    "    else: \n",
    "        # parsujeme: \n",
    "        hr_tag = soup1.new_tag('hr')\n",
    "        hr_tag['id'] = fname[:-5] # id='2023-01-01' napríklad\n",
    "        soup1.html.append(hr_tag) # pridávame hr\n",
    "\n",
    "        soup2 = BeautifulSoup(s,'lxml') #    \n",
    "\n",
    "        # soup3 = soup2.body\n",
    "        soup2.body.script.extract() # init(); preč\n",
    "        elems = soup2.body.find_all('div', class_='lcBODY') # čítania mažeme\n",
    "        for elem in elems: #  v príslušný deň ich môže byť viac\n",
    "            elem.extract()        \n",
    "\n",
    "        soup2.body.find('div', class_='lcNAVIG').extract() # navigačné tlačidlá mažeme       \n",
    "\n",
    "        soup2.body.h1.a['href']= 'onepage_tabulka.html#'+soup2.body.h1.a['href'][:-5]\n",
    "\n",
    "        soup1.html.append(soup2.body)\n"
   ]
  },
  {
   "cell_type": "code",
   "execution_count": 6,
   "metadata": {},
   "outputs": [],
   "source": [
    "with open('onepageDnes2.html', mode='w', encoding='utf-8') as f_out:\n",
    "    f_out.write(str(soup1))"
   ]
  },
  {
   "cell_type": "code",
   "execution_count": null,
   "metadata": {},
   "outputs": [],
   "source": [
    "# done."
   ]
  },
  {
   "cell_type": "code",
   "execution_count": null,
   "metadata": {},
   "outputs": [],
   "source": []
  }
 ],
 "metadata": {
  "kernelspec": {
   "display_name": "Python 3",
   "language": "python",
   "name": "python3"
  },
  "language_info": {
   "codemirror_mode": {
    "name": "ipython",
    "version": 3
   },
   "file_extension": ".py",
   "mimetype": "text/x-python",
   "name": "python",
   "nbconvert_exporter": "python",
   "pygments_lexer": "ipython3",
   "version": "3.11.1"
  },
  "orig_nbformat": 4
 },
 "nbformat": 4,
 "nbformat_minor": 2
}
