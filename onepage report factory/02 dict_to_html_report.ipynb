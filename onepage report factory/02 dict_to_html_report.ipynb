{
 "cells": [
  {
   "cell_type": "code",
   "execution_count": 7,
   "metadata": {},
   "outputs": [],
   "source": [
    "# Liturgický kalendár: 365 dní, \"one page\".\n",
    "# zobrazenie ako \"report\"."
   ]
  },
  {
   "cell_type": "code",
   "execution_count": 8,
   "metadata": {},
   "outputs": [],
   "source": [
    "import pandas as pd\n",
    "from bs4 import BeautifulSoup, Comment\n",
    "import pickle"
   ]
  },
  {
   "cell_type": "code",
   "execution_count": 9,
   "metadata": {},
   "outputs": [],
   "source": [
    "# Load the dictionary from the pickle file\n",
    "with open('dict_of_strings.pickle', 'rb') as file:\n",
    "    dict_of_strings = pickle.load(file)"
   ]
  },
  {
   "cell_type": "code",
   "execution_count": 10,
   "metadata": {},
   "outputs": [],
   "source": [
    "with open('mustra_r.html', mode='r', encoding='utf-8') as m:\n",
    "    mustra = m.read()\n",
    "    \n",
    "soup1 = BeautifulSoup(mustra,'lxml')\n",
    "\n",
    "my_table = soup1.new_tag('table') \n",
    "soup1.body.append(my_table)"
   ]
  },
  {
   "cell_type": "code",
   "execution_count": 11,
   "metadata": {},
   "outputs": [],
   "source": [
    "for date_string, file_content in dict_of_strings.items():\n",
    "\n",
    "    # týždne sú oddelené hrubšími čiarami, jednotlivé týždne sú zabalené v <tbody> elementoch\n",
    "    current_date = pd.to_datetime(date_string)\n",
    "    if (date_string == '2023-01-01') or current_date.day_name('sk_SK')=='Pondelok':\n",
    "        tbody_here = soup1.new_tag('tbody') # create new tbody here\n",
    "        soup1.table.append(tbody_here)\n",
    "\n",
    "    new_table_row = soup1.new_tag('tr')\n",
    "    tbody_here.append(new_table_row)\n",
    "\n",
    "    ### soup2\n",
    "    soup2 = BeautifulSoup(file_content[56:],'lxml') # [56:] , čiže načítavam až od druhého riadku. lebo súbory začínajú ako XML, čo vyhadzovalo zbytočný warning zo strany Parsera.\n",
    "    \n",
    "    # h1\n",
    "    # mažeme link, aj nadbytočný <span> :\n",
    "    soup2.find('a', class_='lcMY').unwrap() # alebo: soup2.h1.a.unwrap() #  lcMY\n",
    "    soup2.find('span', class_='lcMD').unwrap() # lcMD\n",
    "    span_lcDMY = soup2.find('span', class_='lcDMY') # lcDMY\n",
    "    span_lcDMY.smooth()\n",
    "    span_lcDMY.string = span_lcDMY.string[:-5] # mažeme rok 2023 z textu \n",
    "    # toto nešlo: span_lcDMY.string = span_lcDMY.string.removesuffix(' 2023') # \n",
    "\n",
    "    td1 = soup1.new_tag('td', id=date_string) # id='2023-01-01' napríklad. využije sa pri naDnes navigácii\n",
    "    td1.append( soup2.find('h1', class_='datum') ) # vkladáme hlavičku (dátum)\n",
    "\n",
    "    for elem in soup2.find_all('div', class_='lcHEAD'): # vkladáme lcHEAD\n",
    "        h3 = elem.find('h3')\n",
    "        if h3 and h3.get_text().startswith('Vigília'): # ak ide o vigíliu, nezapisujeme do tabulky \n",
    "            pass # also \"continue\" could be.\n",
    "        else:                    \n",
    "            elem.find('div', class_='lcHEADinfo').extract() # mažeme súradnice\n",
    "            td1.append(elem)        \n",
    "    \n",
    "    new_table_row.append(td1) # <tr><td>    "
   ]
  },
  {
   "cell_type": "code",
   "execution_count": 12,
   "metadata": {},
   "outputs": [],
   "source": [
    "# final cleaning (size reducing)\n",
    "\n",
    "# removing html comments <!-- -->\n",
    "comments = soup1.find_all(string = lambda x: isinstance(x, Comment))\n",
    "for comment in comments:\n",
    "    comment.extract()\n",
    "\n",
    "# soup1.smooth() # optionally\n",
    "\n",
    "with open('onepage_report.html', mode='w', encoding='utf-8') as f_out:\n",
    "    f_out.write(str(soup1))"
   ]
  },
  {
   "cell_type": "code",
   "execution_count": null,
   "metadata": {},
   "outputs": [],
   "source": [
    "# done."
   ]
  }
 ],
 "metadata": {
  "kernelspec": {
   "display_name": "Python 3",
   "language": "python",
   "name": "python3"
  },
  "language_info": {
   "codemirror_mode": {
    "name": "ipython",
    "version": 3
   },
   "file_extension": ".py",
   "mimetype": "text/x-python",
   "name": "python",
   "nbconvert_exporter": "python",
   "pygments_lexer": "ipython3",
   "version": "3.11.1"
  },
  "orig_nbformat": 4
 },
 "nbformat": 4,
 "nbformat_minor": 2
}
