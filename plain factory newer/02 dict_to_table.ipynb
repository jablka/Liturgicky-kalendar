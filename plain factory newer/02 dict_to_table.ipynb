{
 "cells": [
  {
   "cell_type": "code",
   "execution_count": 29,
   "metadata": {},
   "outputs": [],
   "source": [
    "import pickle\n",
    "import pandas as pd\n",
    "from bs4 import BeautifulSoup"
   ]
  },
  {
   "cell_type": "code",
   "execution_count": 30,
   "metadata": {},
   "outputs": [],
   "source": [
    "# Load the dictionary from the pickle file\n",
    "with open('mydict_dict.pickle', 'rb') as file:\n",
    "    mydict = pickle.load(file)"
   ]
  },
  {
   "cell_type": "code",
   "execution_count": 31,
   "metadata": {},
   "outputs": [],
   "source": [
    "mustra = '''<!DOCTYPE html>\n",
    "<html>\n",
    "<head>\n",
    "<style>\n",
    "    table {\n",
    "        width: 75%; \n",
    "        margin-left: auto; \n",
    "        margin-right: auto;\n",
    "        font-family: Arial, Helvetica, sans-serif; \n",
    "        line-height: 1.5;\n",
    "        border: 1px solid black; \n",
    "        border-collapse: collapse; \n",
    "        padding: 1rem;    \n",
    "    }\n",
    "\n",
    "    td {\n",
    "        white-space: pre-wrap;\n",
    "        border: 1px solid black;\n",
    "        border-collapse: collapse;\n",
    "        padding: 1rem;        \n",
    "    }\n",
    "\n",
    "    th {\n",
    "        border: 1px solid black;\n",
    "        border-collapse: collapse;\n",
    "        padding: 1rem;          \n",
    "    }\n",
    "    \n",
    "    .datum, .meniny {\n",
    "        text-wrap: nowrap;\n",
    "        text-align: center\n",
    "    }\n",
    "</style>\n",
    "</head>\n",
    "<body>\n",
    "<table>\n",
    "<th>dátum</th>\n",
    "<th>deň</th>\n",
    "<th>sviatok</th>\n",
    "<th>poznámka</th>\n",
    "</table>\n",
    "</body>\n",
    "</html>\n",
    "'''"
   ]
  },
  {
   "cell_type": "code",
   "execution_count": 32,
   "metadata": {},
   "outputs": [],
   "source": [
    "soup = BeautifulSoup(mustra , 'html.parser')"
   ]
  },
  {
   "cell_type": "code",
   "execution_count": 33,
   "metadata": {},
   "outputs": [],
   "source": [
    "for key in mydict.keys():\n",
    "    tr = soup.new_tag('tr')\n",
    "    tr['id'] = key # id='2023-01-01'\n",
    "\n",
    "    td1 = soup.new_tag('td')\n",
    "    td1.string = key # '2023-01-01' dátum\n",
    "    td1['class'] = \"datum\" # na túto class je napojené CSS, aby sa nezalamoval dátum string.\n",
    "\n",
    "    # tu rowspan riešim\n",
    "    velkost = len(mydict[key]) # length of nested dictionary\n",
    "    if velkost>2: # zvyčajne obsahuje 2 polia: \"meniny\" a \"0\"; ak viac polí, v dni je viac možností (0,1,2).\n",
    "        td1['rowspan']=str(velkost-1) # a musíme nastaviť rowspan, podľa počtu možností\n",
    "\n",
    "    tr.append(td1)\n",
    "\n",
    "    for variable in mydict[key].keys(): # prechádzame nested dictionary\n",
    "        if variable == 'meniny': # pole \"meniny\"\n",
    "            td2 = soup.new_tag('td')\n",
    "            td2['class']='meniny' # na túto class je napojené CSS, aby sa nezalamoval m_string.\n",
    "\n",
    "            # meniny string obohatený o ďalšie údaje o dni, this will be crucial\n",
    "            meniny = mydict[key][variable]\n",
    "            current_date = pd.to_datetime(key)\n",
    "            m_string = str(current_date.day)+'. '+current_date.month_name('sk_SK').lower()+', '+current_date.day_name('sk_SK').lower()+'\\n<i>'+meniny+'</i>'\n",
    "            app = BeautifulSoup(m_string,'html.parser')\n",
    "            td2.append(app)\n",
    "\n",
    "            if velkost>2:\n",
    "                td2['rowspan']=str(velkost-1)      \n",
    "\n",
    "            tr.append(td2)\n",
    "\n",
    "        else: # zvyšné polia (0,1,2)\n",
    "            td2 = soup.new_tag('td')\n",
    "            td2.string = mydict[key][variable][0] # v liturgii... nultý (prvý) údaj v liste\n",
    "            tr.append(td2)\n",
    "\n",
    "            td2 = soup.new_tag('td')\n",
    "            td2.string = mydict[key][variable][1] # poznámka... prvý (druhý) údaj v liste\n",
    "            tr.append(td2)\n",
    "\n",
    "            if velkost>2: # ak je v dni je viac možností, musíme pridať ďalší riadok (row)\n",
    "                soup.table.append(tr)\n",
    "                tr = soup.new_tag('tr')\n",
    "\n",
    "    soup.table.append(tr)"
   ]
  },
  {
   "cell_type": "code",
   "execution_count": 34,
   "metadata": {},
   "outputs": [],
   "source": [
    "# soup"
   ]
  },
  {
   "cell_type": "code",
   "execution_count": 35,
   "metadata": {},
   "outputs": [],
   "source": [
    "with open('plain_smaller.html', mode='w', encoding='utf8') as f:\n",
    "    f.write(str(soup))"
   ]
  },
  {
   "cell_type": "code",
   "execution_count": 8,
   "metadata": {},
   "outputs": [],
   "source": [
    "# done."
   ]
  }
 ],
 "metadata": {
  "kernelspec": {
   "display_name": "Python 3",
   "language": "python",
   "name": "python3"
  },
  "language_info": {
   "codemirror_mode": {
    "name": "ipython",
    "version": 3
   },
   "file_extension": ".py",
   "mimetype": "text/x-python",
   "name": "python",
   "nbconvert_exporter": "python",
   "pygments_lexer": "ipython3",
   "version": "3.11.1"
  },
  "orig_nbformat": 4
 },
 "nbformat": 4,
 "nbformat_minor": 2
}
