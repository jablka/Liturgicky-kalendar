{
 "cells": [
  {
   "cell_type": "markdown",
   "metadata": {},
   "source": [
    "# Adding custom id to `<tr>` html elements"
   ]
  },
  {
   "cell_type": "code",
   "execution_count": 1,
   "metadata": {},
   "outputs": [],
   "source": [
    "# adding \"id\" attribute to each <tr> element of particular day. \n",
    "# e.g. <tr id=\"2023-01-01\">..."
   ]
  },
  {
   "cell_type": "code",
   "execution_count": 2,
   "metadata": {},
   "outputs": [],
   "source": [
    "from bs4 import BeautifulSoup"
   ]
  },
  {
   "cell_type": "code",
   "execution_count": 3,
   "metadata": {},
   "outputs": [],
   "source": [
    "with open('table.html', encoding='utf-8') as f:\n",
    "    s = f.read()    \n",
    "\n",
    "soup = BeautifulSoup(s,'lxml') #    "
   ]
  },
  {
   "cell_type": "code",
   "execution_count": 4,
   "metadata": {},
   "outputs": [],
   "source": [
    "# find all <th>\n",
    "elems = soup.find_all('th', {'class':'level0'} ) # class_='level0'"
   ]
  },
  {
   "cell_type": "code",
   "execution_count": 5,
   "metadata": {},
   "outputs": [
    {
     "name": "stdout",
     "output_type": "stream",
     "text": [
      "365\n"
     ]
    }
   ],
   "source": [
    "c = 0\n",
    "for elem in elems:\n",
    "    mytext = elem.get_text()\n",
    "    if mytext.startswith('2023'): # check if <th> is in fact a day.\n",
    "        table_row = elem.find_parent('tr') # find its parent <tr>\n",
    "        table_row['id'] = mytext # and assign respective id to that <tr>\n",
    "        c += 1\n",
    "        \n",
    "print(c) # test if we have all days covered"
   ]
  },
  {
   "cell_type": "code",
   "execution_count": 6,
   "metadata": {},
   "outputs": [],
   "source": [
    "with open('resulting_table.html', mode='w', encoding='utf-8') as f:\n",
    "    f.write(str(soup))    "
   ]
  },
  {
   "cell_type": "code",
   "execution_count": null,
   "metadata": {},
   "outputs": [],
   "source": [
    "# done."
   ]
  }
 ],
 "metadata": {
  "kernelspec": {
   "display_name": "Python 3",
   "language": "python",
   "name": "python3"
  },
  "language_info": {
   "codemirror_mode": {
    "name": "ipython",
    "version": 3
   },
   "file_extension": ".py",
   "mimetype": "text/x-python",
   "name": "python",
   "nbconvert_exporter": "python",
   "pygments_lexer": "ipython3",
   "version": "3.11.1"
  },
  "orig_nbformat": 4
 },
 "nbformat": 4,
 "nbformat_minor": 2
}
