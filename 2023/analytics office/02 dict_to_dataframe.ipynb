{
 "cells": [
  {
   "cell_type": "code",
   "execution_count": 1,
   "metadata": {},
   "outputs": [],
   "source": [
    "import pickle\n",
    "import pandas as pd"
   ]
  },
  {
   "cell_type": "code",
   "execution_count": 2,
   "metadata": {},
   "outputs": [],
   "source": [
    "# Load the dictionary from the pickle file\n",
    "with open('mydict_dict.pickle', 'rb') as file:\n",
    "    mydict = pickle.load(file)"
   ]
  },
  {
   "cell_type": "code",
   "execution_count": 3,
   "metadata": {},
   "outputs": [
    {
     "name": "stdout",
     "output_type": "stream",
     "text": [
      "{'meniny': 'Daniela', 0: ['Utorok vo Vianočnom období [Biela]\\nalebo\\nNajsvätejšieho mena Ježiš [Biela]\\n(ľubovoľná spomienka)', 'Vianočné obdobie; lit. rok: 2023; ned./fer. cyklus: A/I']}\n"
     ]
    }
   ],
   "source": [
    "print(mydict['2023-01-03']) # test zobrazenia"
   ]
  },
  {
   "cell_type": "code",
   "execution_count": 4,
   "metadata": {},
   "outputs": [
    {
     "name": "stdout",
     "output_type": "stream",
     "text": [
      "{'meniny': 'Bohuslav', 0: ['Svätých Andreja-Svorada a Benedikta, pustovníkov [Biela]\\n(spomienka)', 'Cezročné obdobie; lit. rok: 2023; ned./fer. cyklus: A/I'], 1: ['NITRA: Svätých Andreja-Svorada a Benedikta, pustovníkov – hlavných patrónov diecézy [Biela]\\n(sviatok)', 'Cezročné obdobie; lit. rok: 2023; ned./fer. cyklus: A/I'], 2: ['Mesto Nitra: Svätého Andreja-Svorada – patróna mesta [Biela]\\n(slávnosť)', 'Cezročné obdobie; lit. rok: 2023; ned./fer. cyklus: A/I']}\n"
     ]
    }
   ],
   "source": [
    "print(mydict['2023-07-17']) # test zobrazenia"
   ]
  },
  {
   "cell_type": "code",
   "execution_count": null,
   "metadata": {},
   "outputs": [],
   "source": []
  },
  {
   "cell_type": "code",
   "execution_count": 5,
   "metadata": {},
   "outputs": [
    {
     "data": {
      "text/html": [
       "<div>\n",
       "<style scoped>\n",
       "    .dataframe tbody tr th:only-of-type {\n",
       "        vertical-align: middle;\n",
       "    }\n",
       "\n",
       "    .dataframe tbody tr th {\n",
       "        vertical-align: top;\n",
       "    }\n",
       "\n",
       "    .dataframe thead th {\n",
       "        text-align: right;\n",
       "    }\n",
       "</style>\n",
       "<table border=\"1\" class=\"dataframe\">\n",
       "  <thead>\n",
       "    <tr style=\"text-align: right;\">\n",
       "      <th></th>\n",
       "      <th>datum</th>\n",
       "      <th>meniny</th>\n",
       "      <th>0</th>\n",
       "      <th>1</th>\n",
       "      <th>2</th>\n",
       "    </tr>\n",
       "  </thead>\n",
       "  <tbody>\n",
       "    <tr>\n",
       "      <th>0</th>\n",
       "      <td>2023-01-01</td>\n",
       "      <td>Nový rok</td>\n",
       "      <td>[PRIKÁZANÁ SLÁVNOSŤ:\\nPanny Márie Bohorodičky ...</td>\n",
       "      <td>NaN</td>\n",
       "      <td>NaN</td>\n",
       "    </tr>\n",
       "    <tr>\n",
       "      <th>1</th>\n",
       "      <td>2023-01-02</td>\n",
       "      <td>Alexandra, Karina</td>\n",
       "      <td>[Svätých Bazila Veľkého a Gregora Nazianzského...</td>\n",
       "      <td>NaN</td>\n",
       "      <td>NaN</td>\n",
       "    </tr>\n",
       "    <tr>\n",
       "      <th>2</th>\n",
       "      <td>2023-01-03</td>\n",
       "      <td>Daniela</td>\n",
       "      <td>[Utorok vo Vianočnom období [Biela]\\nalebo\\nNa...</td>\n",
       "      <td>NaN</td>\n",
       "      <td>NaN</td>\n",
       "    </tr>\n",
       "    <tr>\n",
       "      <th>3</th>\n",
       "      <td>2023-01-04</td>\n",
       "      <td>Drahoslav</td>\n",
       "      <td>[Streda vo Vianočnom období [Biela], Vianočné ...</td>\n",
       "      <td>NaN</td>\n",
       "      <td>NaN</td>\n",
       "    </tr>\n",
       "    <tr>\n",
       "      <th>4</th>\n",
       "      <td>2023-01-05</td>\n",
       "      <td>Andrea</td>\n",
       "      <td>[Štvrtok vo Vianočnom období [Biela], Vianočné...</td>\n",
       "      <td>NaN</td>\n",
       "      <td>NaN</td>\n",
       "    </tr>\n",
       "    <tr>\n",
       "      <th>...</th>\n",
       "      <td>...</td>\n",
       "      <td>...</td>\n",
       "      <td>...</td>\n",
       "      <td>...</td>\n",
       "      <td>...</td>\n",
       "    </tr>\n",
       "    <tr>\n",
       "      <th>360</th>\n",
       "      <td>2023-12-27</td>\n",
       "      <td>Filoména</td>\n",
       "      <td>[Svätého Jána, apoštola a evanjelistu [Biela]\\...</td>\n",
       "      <td>NaN</td>\n",
       "      <td>NaN</td>\n",
       "    </tr>\n",
       "    <tr>\n",
       "      <th>361</th>\n",
       "      <td>2023-12-28</td>\n",
       "      <td>Ivana, Ivona</td>\n",
       "      <td>[Svätých Neviniatok, mučeníkov [Červená]\\n(svi...</td>\n",
       "      <td>NaN</td>\n",
       "      <td>NaN</td>\n",
       "    </tr>\n",
       "    <tr>\n",
       "      <th>362</th>\n",
       "      <td>2023-12-29</td>\n",
       "      <td>Milada</td>\n",
       "      <td>[Piaty deň v oktáve narodenia Pána [Biela], Vi...</td>\n",
       "      <td>NaN</td>\n",
       "      <td>NaN</td>\n",
       "    </tr>\n",
       "    <tr>\n",
       "      <th>363</th>\n",
       "      <td>2023-12-30</td>\n",
       "      <td>Dávid</td>\n",
       "      <td>[Šiesty deň v oktáve narodenia Pána [Biela], V...</td>\n",
       "      <td>NaN</td>\n",
       "      <td>NaN</td>\n",
       "    </tr>\n",
       "    <tr>\n",
       "      <th>364</th>\n",
       "      <td>2023-12-31</td>\n",
       "      <td>Silvester</td>\n",
       "      <td>[Svätej rodiny – Ježiša, Márie a Jozefa [Biela...</td>\n",
       "      <td>NaN</td>\n",
       "      <td>NaN</td>\n",
       "    </tr>\n",
       "  </tbody>\n",
       "</table>\n",
       "<p>365 rows × 5 columns</p>\n",
       "</div>"
      ],
      "text/plain": [
       "          datum             meniny  \\\n",
       "0    2023-01-01           Nový rok   \n",
       "1    2023-01-02  Alexandra, Karina   \n",
       "2    2023-01-03            Daniela   \n",
       "3    2023-01-04          Drahoslav   \n",
       "4    2023-01-05             Andrea   \n",
       "..          ...                ...   \n",
       "360  2023-12-27           Filoména   \n",
       "361  2023-12-28       Ivana, Ivona   \n",
       "362  2023-12-29             Milada   \n",
       "363  2023-12-30              Dávid   \n",
       "364  2023-12-31          Silvester   \n",
       "\n",
       "                                                     0    1    2  \n",
       "0    [PRIKÁZANÁ SLÁVNOSŤ:\\nPanny Márie Bohorodičky ...  NaN  NaN  \n",
       "1    [Svätých Bazila Veľkého a Gregora Nazianzského...  NaN  NaN  \n",
       "2    [Utorok vo Vianočnom období [Biela]\\nalebo\\nNa...  NaN  NaN  \n",
       "3    [Streda vo Vianočnom období [Biela], Vianočné ...  NaN  NaN  \n",
       "4    [Štvrtok vo Vianočnom období [Biela], Vianočné...  NaN  NaN  \n",
       "..                                                 ...  ...  ...  \n",
       "360  [Svätého Jána, apoštola a evanjelistu [Biela]\\...  NaN  NaN  \n",
       "361  [Svätých Neviniatok, mučeníkov [Červená]\\n(svi...  NaN  NaN  \n",
       "362  [Piaty deň v oktáve narodenia Pána [Biela], Vi...  NaN  NaN  \n",
       "363  [Šiesty deň v oktáve narodenia Pána [Biela], V...  NaN  NaN  \n",
       "364  [Svätej rodiny – Ježiša, Márie a Jozefa [Biela...  NaN  NaN  \n",
       "\n",
       "[365 rows x 5 columns]"
      ]
     },
     "execution_count": 5,
     "metadata": {},
     "output_type": "execute_result"
    }
   ],
   "source": [
    "df = pd.DataFrame.from_dict(mydict, orient='index').reset_index(names='datum')\n",
    "# df['datum'] = pd.to_datetime(df['datum']) \n",
    "df"
   ]
  },
  {
   "cell_type": "code",
   "execution_count": 6,
   "metadata": {},
   "outputs": [
    {
     "name": "stdout",
     "output_type": "stream",
     "text": [
      "<class 'pandas.core.frame.DataFrame'>\n",
      "RangeIndex: 365 entries, 0 to 364\n",
      "Data columns (total 5 columns):\n",
      " #   Column  Non-Null Count  Dtype \n",
      "---  ------  --------------  ----- \n",
      " 0   datum   365 non-null    object\n",
      " 1   meniny  365 non-null    object\n",
      " 2   0       365 non-null    object\n",
      " 3   1       29 non-null     object\n",
      " 4   2       2 non-null      object\n",
      "dtypes: object(5)\n",
      "memory usage: 14.4+ KB\n"
     ]
    }
   ],
   "source": [
    "df.info()"
   ]
  },
  {
   "cell_type": "code",
   "execution_count": 7,
   "metadata": {},
   "outputs": [],
   "source": [
    "df.to_pickle('first_dataframe.pickle')"
   ]
  },
  {
   "cell_type": "code",
   "execution_count": 8,
   "metadata": {},
   "outputs": [],
   "source": [
    "# done."
   ]
  }
 ],
 "metadata": {
  "kernelspec": {
   "display_name": "Python 3",
   "language": "python",
   "name": "python3"
  },
  "language_info": {
   "codemirror_mode": {
    "name": "ipython",
    "version": 3
   },
   "file_extension": ".py",
   "mimetype": "text/x-python",
   "name": "python",
   "nbconvert_exporter": "python",
   "pygments_lexer": "ipython3",
   "version": "3.11.1"
  },
  "orig_nbformat": 4
 },
 "nbformat": 4,
 "nbformat_minor": 2
}
